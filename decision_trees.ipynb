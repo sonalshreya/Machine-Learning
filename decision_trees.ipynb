{
 "cells": [
  {
   "cell_type": "code",
   "execution_count": 1,
   "metadata": {
    "id": "Njm8ixFOP38b"
   },
   "outputs": [],
   "source": [
    "from sklearn import tree\n",
    "import pandas as pd\n",
    "from sklearn.model_selection import train_test_split\n",
    "from sklearn import preprocessing "
   ]
  },
  {
   "cell_type": "code",
   "execution_count": 2,
   "metadata": {
    "id": "ISRVFje6QymB"
   },
   "outputs": [],
   "source": [
    "# Read the Dataset\n",
    "dataset = pd.read_csv(\"/usr/local/notebooks/datasets/iris.csv\")\n",
    "\n",
    "label_encoder = preprocessing.LabelEncoder()\n",
    "dataset[\"species\"]= label_encoder.fit_transform(dataset[\"species\"]) # Encoding Output Variable\n",
    "# Separating the Input and Output Columns\n",
    "X = dataset[[\"sepal_length\", \"sepal_width\", \"petal_length\", \"petal_width\"]]\n",
    "y = dataset[\"species\"]\n",
    "X_train, X_test, y_train, y_test = train_test_split(X, y, random_state=0, train_size=0.7)"
   ]
  },
  {
   "cell_type": "markdown",
   "metadata": {
    "id": "rxQeg2gnRWgk"
   },
   "source": [
    "In the above code, we load the dataset and then encode the target variable."
   ]
  },
  {
   "cell_type": "code",
   "execution_count": 3,
   "metadata": {
    "colab": {
     "base_uri": "https://localhost:8080/",
     "height": 34
    },
    "id": "iqCjehJCQyrX",
    "outputId": "644a397a-2c9d-4351-c1cb-35ac9b1dbc79"
   },
   "outputs": [
    {
     "name": "stdout",
     "output_type": "stream",
     "text": [
      "The accuracy on test set is 0.98\n"
     ]
    }
   ],
   "source": [
    "clf = tree.DecisionTreeClassifier().fit(X_train, y_train)\n",
    "print(\"The accuracy on test set is {0:.2f}\".format(clf.score(X_test, y_test)))"
   ]
  },
  {
   "cell_type": "markdown",
   "metadata": {
    "id": "kj0sH3ErTNsb"
   },
   "source": [
    "[1] : On line 1 we train the Decision Tree Classifier. <br>\n",
    "[2] : On line 3 we print the accuracy of the model on the test set."
   ]
  },
  {
   "cell_type": "code",
   "execution_count": 4,
   "metadata": {
    "colab": {
     "base_uri": "https://localhost:8080/",
     "height": 469
    },
    "id": "Q-9I3dIjRSUa",
    "outputId": "3241d670-60a0-4955-b8c5-4c8d5ddb1464"
   },
   "outputs": [
    {
     "name": "stdout",
     "output_type": "stream",
     "text": [
      "|--- petal_width <= 0.8\n",
      "|   |--- class: 0\n",
      "|--- petal_width >  0.8\n",
      "|   |--- petal_length <= 5.0\n",
      "|   |   |--- petal_width <= 1.7\n",
      "|   |   |   |--- class: 1\n",
      "|   |   |--- petal_width >  1.7\n",
      "|   |   |   |--- sepal_width <= 3.1\n",
      "|   |   |   |   |--- class: 2\n",
      "|   |   |   |--- sepal_width >  3.1\n",
      "|   |   |   |   |--- class: 1\n",
      "|   |--- petal_length >  5.0\n",
      "|   |   |--- petal_length <= 5.0\n",
      "|   |   |   |--- sepal_length <= 6.5\n",
      "|   |   |   |   |--- class: 2\n",
      "|   |   |   |--- sepal_length >  6.5\n",
      "|   |   |   |   |--- class: 1\n",
      "|   |   |--- petal_length >  5.0\n",
      "|   |   |   |--- class: 2\n",
      "\n"
     ]
    }
   ],
   "source": [
    "# Displaying the Rules formed by the Tree\n",
    "from sklearn.tree import export_text\n",
    "print(export_text(clf, feature_names=list(X.columns), spacing=3, decimals=1))"
   ]
  },
  {
   "cell_type": "markdown",
   "metadata": {
    "id": "Lod14mx0TzxT"
   },
   "source": [
    "[1] : Above rules can be easily understood by the Domain Expert or Bussiness Executive. <br>\n",
    "[2] : We can easily see how the branches have been made in the above tree on different features. We can traverse on a new instance of data and know the corresponding label predicted by the tree.<br>\n",
    "[3] : In the same way we can deduce the other rules. <br>"
   ]
  },
  {
   "cell_type": "code",
   "execution_count": null,
   "metadata": {},
   "outputs": [],
   "source": []
  }
 ],
 "metadata": {
  "colab": {
   "collapsed_sections": [],
   "name": "Decision_Trees.ipynb",
   "provenance": []
  },
  "kernelspec": {
   "display_name": "Python 3",
   "language": "python",
   "name": "python3"
  },
  "language_info": {
   "codemirror_mode": {
    "name": "ipython",
    "version": 3
   },
   "file_extension": ".py",
   "mimetype": "text/x-python",
   "name": "python",
   "nbconvert_exporter": "python",
   "pygments_lexer": "ipython3",
   "version": "3.7.3"
  }
 },
 "nbformat": 4,
 "nbformat_minor": 1
}
