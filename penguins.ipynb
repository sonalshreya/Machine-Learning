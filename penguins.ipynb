{
  "nbformat": 4,
  "nbformat_minor": 0,
  "metadata": {
    "colab": {
      "provenance": [],
      "authorship_tag": "ABX9TyOgtVjFy1is1OR0L0sU9+ON",
      "include_colab_link": true
    },
    "kernelspec": {
      "name": "python3",
      "display_name": "Python 3"
    },
    "language_info": {
      "name": "python"
    }
  },
  "cells": [
    {
      "cell_type": "markdown",
      "metadata": {
        "id": "view-in-github",
        "colab_type": "text"
      },
      "source": [
        "<a href=\"https://colab.research.google.com/github/sonalshreya/Machine-Learning/blob/main/penguins.ipynb\" target=\"_parent\"><img src=\"https://colab.research.google.com/assets/colab-badge.svg\" alt=\"Open In Colab\"/></a>"
      ]
    },
    {
      "cell_type": "code",
      "execution_count": 23,
      "metadata": {
        "id": "CHekw7xUuoZJ"
      },
      "outputs": [],
      "source": [
        "import pandas as pd\n",
        "import numpy as np\n",
        "#get data\n",
        "penguins = pd.read_csv(\"https://raw.githubusercontent.com/INRIA/scikit-learn-mooc/main/datasets/penguins_classification.csv\")"
      ]
    },
    {
      "cell_type": "code",
      "source": [
        "#load data\n",
        "print(penguins.head())\n",
        "print()\n",
        "print(penguins.info())\n"
      ],
      "metadata": {
        "colab": {
          "base_uri": "https://localhost:8080/"
        },
        "id": "iUT5GKiX3CIn",
        "outputId": "758f4aa6-efd4-436a-8f0b-7c33d3109566"
      },
      "execution_count": 21,
      "outputs": [
        {
          "output_type": "stream",
          "name": "stdout",
          "text": [
            "   Culmen Length (mm)  Culmen Depth (mm) Species\n",
            "0                39.1               18.7  Adelie\n",
            "1                39.5               17.4  Adelie\n",
            "2                40.3               18.0  Adelie\n",
            "3                36.7               19.3  Adelie\n",
            "4                39.3               20.6  Adelie\n",
            "\n",
            "<class 'pandas.core.frame.DataFrame'>\n",
            "RangeIndex: 342 entries, 0 to 341\n",
            "Data columns (total 3 columns):\n",
            " #   Column              Non-Null Count  Dtype  \n",
            "---  ------              --------------  -----  \n",
            " 0   Culmen Length (mm)  342 non-null    float64\n",
            " 1   Culmen Depth (mm)   342 non-null    float64\n",
            " 2   Species             342 non-null    object \n",
            "dtypes: float64(2), object(1)\n",
            "memory usage: 8.1+ KB\n",
            "None\n"
          ]
        }
      ]
    },
    {
      "cell_type": "code",
      "source": [
        "#shape is an attribute that returns a tuple representing shape of array. shape[0]-> number of rows , shape[1]-> no of columns\n",
        "numerical_features= penguins.select_dtypes(include=[np.number]).shape[1]\n",
        "categorical_features = penguins.select_dtypes(include=[object]).shape[1]\n",
        "\n",
        "print(numerical_features)\n",
        "print(categorical_features)"
      ],
      "metadata": {
        "colab": {
          "base_uri": "https://localhost:8080/"
        },
        "id": "5Vzlq6ZO4L3D",
        "outputId": "9065592b-d7f1-4ffe-a16f-dae8727121e8"
      },
      "execution_count": 28,
      "outputs": [
        {
          "output_type": "stream",
          "name": "stdout",
          "text": [
            "2\n",
            "1\n"
          ]
        }
      ]
    },
    {
      "cell_type": "code",
      "source": [],
      "metadata": {
        "id": "8scSa-lo6Sxg"
      },
      "execution_count": null,
      "outputs": []
    }
  ]
}