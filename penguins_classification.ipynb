{
  "nbformat": 4,
  "nbformat_minor": 0,
  "metadata": {
    "colab": {
      "provenance": [],
      "authorship_tag": "ABX9TyOwe2IMsvODxMve2snXArhL",
      "include_colab_link": true
    },
    "kernelspec": {
      "name": "python3",
      "display_name": "Python 3"
    },
    "language_info": {
      "name": "python"
    }
  },
  "cells": [
    {
      "cell_type": "markdown",
      "metadata": {
        "id": "view-in-github",
        "colab_type": "text"
      },
      "source": [
        "<a href=\"https://colab.research.google.com/github/sonalshreya/Machine-Learning/blob/main/penguins_classification.ipynb\" target=\"_parent\"><img src=\"https://colab.research.google.com/assets/colab-badge.svg\" alt=\"Open In Colab\"/></a>"
      ]
    },
    {
      "cell_type": "code",
      "execution_count": null,
      "metadata": {
        "id": "CHekw7xUuoZJ"
      },
      "outputs": [],
      "source": [
        "import pandas as pd\n",
        "import numpy as np\n",
        "#get data\n",
        "penguins = pd.read_csv(\"https://raw.githubusercontent.com/INRIA/scikit-learn-mooc/main/datasets/penguins_classification.csv\")"
      ]
    },
    {
      "cell_type": "code",
      "source": [
        "#load data\n",
        "print(penguins.head())\n",
        "print()\n",
        "print(penguins.info())\n"
      ],
      "metadata": {
        "colab": {
          "base_uri": "https://localhost:8080/"
        },
        "id": "iUT5GKiX3CIn",
        "outputId": "9fdb36fe-9234-476f-81ef-8cb366177c23"
      },
      "execution_count": null,
      "outputs": [
        {
          "output_type": "stream",
          "name": "stdout",
          "text": [
            "   Culmen Length (mm)  Culmen Depth (mm) Species\n",
            "0                39.1               18.7  Adelie\n",
            "1                39.5               17.4  Adelie\n",
            "2                40.3               18.0  Adelie\n",
            "3                36.7               19.3  Adelie\n",
            "4                39.3               20.6  Adelie\n",
            "\n",
            "<class 'pandas.core.frame.DataFrame'>\n",
            "RangeIndex: 342 entries, 0 to 341\n",
            "Data columns (total 3 columns):\n",
            " #   Column              Non-Null Count  Dtype  \n",
            "---  ------              --------------  -----  \n",
            " 0   Culmen Length (mm)  342 non-null    float64\n",
            " 1   Culmen Depth (mm)   342 non-null    float64\n",
            " 2   Species             342 non-null    object \n",
            "dtypes: float64(2), object(1)\n",
            "memory usage: 8.1+ KB\n",
            "None\n"
          ]
        }
      ]
    },
    {
      "cell_type": "code",
      "source": [
        "#shape is an attribute that returns a tuple representing shape of array. shape[0]-> number of rows , shape[1]-> no of columns\n",
        "numerical_features= penguins.select_dtypes(include=[np.number]).shape[1]\n",
        "categorical_features = penguins.select_dtypes(include=[object]).shape[1]\n",
        "\n",
        "print(numerical_features)\n",
        "print(categorical_features)"
      ],
      "metadata": {
        "colab": {
          "base_uri": "https://localhost:8080/"
        },
        "id": "5Vzlq6ZO4L3D",
        "outputId": "f225c85e-b120-4abb-d683-1742f6d82ed7"
      },
      "execution_count": null,
      "outputs": [
        {
          "output_type": "stream",
          "name": "stdout",
          "text": [
            "2\n",
            "1\n"
          ]
        }
      ]
    },
    {
      "cell_type": "code",
      "source": [
        "#The value_counts() method in pandas is used to count the occurrences of unique values in a Series (a single column of a DataFrame) and\n",
        "#returns a new Series where the index consists of unique values and the values are the counts of each unique value.\n",
        "species_counts = penguins['Species'].value_counts()\n",
        "print(species_counts)"
      ],
      "metadata": {
        "id": "8scSa-lo6Sxg",
        "colab": {
          "base_uri": "https://localhost:8080/"
        },
        "outputId": "fa9ec8c7-0930-48a0-b5bb-09390d5dde8c"
      },
      "execution_count": null,
      "outputs": [
        {
          "output_type": "stream",
          "name": "stdout",
          "text": [
            "Species\n",
            "Adelie       151\n",
            "Gentoo       123\n",
            "Chinstrap     68\n",
            "Name: count, dtype: int64\n"
          ]
        }
      ]
    },
    {
      "cell_type": "code",
      "source": [
        "numerical_col= penguins.select_dtypes(include=[np.number])\n",
        "numerical_col.hist()"
      ],
      "metadata": {
        "colab": {
          "base_uri": "https://localhost:8080/",
          "height": 488
        },
        "id": "MMmo1ATUMocS",
        "outputId": "e0e74f22-640a-48d4-e81c-3e75db491191"
      },
      "execution_count": null,
      "outputs": [
        {
          "output_type": "execute_result",
          "data": {
            "text/plain": [
              "array([[<Axes: title={'center': 'Culmen Length (mm)'}>,\n",
              "        <Axes: title={'center': 'Culmen Depth (mm)'}>]], dtype=object)"
            ]
          },
          "metadata": {},
          "execution_count": 15
        },
        {
          "output_type": "display_data",
          "data": {
            "text/plain": [
              "<Figure size 640x480 with 2 Axes>"
            ],
            "image/png": "[encoded data removed]"
          },
          "metadata": {}
        }
      ]
    },
    {
      "cell_type": "code",
      "source": [],
      "metadata": {
        "id": "95r7OU-XOARa"
      },
      "execution_count": null,
      "outputs": []
    }
  ]
}